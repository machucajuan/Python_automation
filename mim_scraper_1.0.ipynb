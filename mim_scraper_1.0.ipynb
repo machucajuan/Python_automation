{
 "cells": [
  {
   "cell_type": "code",
   "execution_count": 2,
   "id": "3e25c400",
   "metadata": {},
   "outputs": [
    {
     "name": "stdout",
     "output_type": "stream",
     "text": [
      "{'titles': ['Private Capital Quarterly Investment Update (1Q 2021)\\n', 'Open for Business:  Our Summer 2021 Commercial Real Estate Outlook\\n', 'Public Fixed Income Emerging Market Webinar\\n', 'U.S. Pecan Market Insight\\n', 'Technical Analysis Chart Pack:\\xa0April 2021\\n', 'Investment Grade\\xa0Corporate: Market Review and Outlook\\n', 'Emerging Markets: Market Review and Outlook\\n', 'Short & Intermediate Duration: Q1 2021 Recap, Performance & Outlook\\n', 'Taxable Municipals: Market Review and Outlook\\n', 'Quantitative Portfolio Strategy:\\xa0Pension & Insurance – Applying A Risk Parity Strategy to a\\xa0Fixed-Income-Only Portfolio\\n', 'Emerging Markets 2021\\n', 'Avoiding the Crowds: Finding Opportunities in Private Structured Credit', 'A Stigmatized Sector - Our Outlook for U.S. Hotel Investments', 'Still Chained: N95 Masks and Supply Chains Lessons During COVID-19\\n', 'Supply/Demand Mismatches and 2021 Economic Growth\\n', 'Supply/Demand Mismatches and 2021 Economic Growth\\n', 'Cheese Market Insight\\n', 'The Evolving Long Credit Universe', 'Buying into the Energy Future', 'Technical Analysis Chart Pack – March 2021', \"What's the Worst that Could Happen?\", '2021 U.S. Real Estate Outlook & ESG Integration / Opportunity\\n', 'Pandemic, Policy and Posturing. What does the next chapter in U.S. politics mean for the global economy?\\n', 'Private Capital Quarterly Investment Update (4Q 2020)', 'How to Stop Worrying and Learn to Love Inflation', 'Public Fixed Income Quarterly Commentary: Fourth Quarter 2020', 'Technical Analysis Chart Pack: January 2021', 'Short & Intermediate Duration Fixed Income: Q1 2021 Themes, Outlook & Strategy', 'Future Drivers for U.S. Midwest Agriculture', 'The Blockchain Blockbuster: Yapese Stones to Central Bank Digital Currencies', 'A Multispeed Recovery: 2021 Global Risks', 'MetLife—scaling up a long-term portfolio with skin in the game', 'The Winding Path to Recovery: Our 2021 Outlook for Commercial Real Estate', 'Choppy Skies and Silver Linings—the Airline Sector Amid the Pandemic', 'Seeing the Forest from the Trees: A Closer Look at SRI Investing', 'Podcast: Exploring Opportunities in Emerging Markets', 'High Yield for Insurance Companies: For Everything There is a Season', 'Opportunities in Life Science Real Estate Investing', 'Demographics, On-Demand: Visualizing Microeconomic Municipal-Level Data', 'Private Placement Debt Investments', 'Finding Opportunities in the Private Placement Debt Market', 'The Pandemic Pitfall: Short-Term Forecasts Could Drive Mispricing in U.S. Office', 'Public Fixed Income Webcast Replay', 'Orange Insight\\n', '2020 U.S. Election Results: What They Mean for Investors\\n', 'Against the Headwinds—Delving into Global Corporate Analysis', 'The Consumer in Crisis? Differences Between Downturns\\n', '2020 U.S. Elections: What You Need to Consider\\n', 'Technical Analysis Chart Pack: October 2020\\n', 'Investment Opportunities in U.S. Private Commercial Mortgages\\n', 'Wage Bill and Recession\\n', 'Protein Consumption Market Analysis\\n', 'Managing Stable Value in an Environment of Heightened Risk, Uncertainty\\n', 'Private Capital Quarterly Investment Update (3Q 2020)', 'Public Fixed Income Quarterly Commentary: Third Quarter 2020\\n', 'Real Assets: A Nimble Option for Institutional Investors\\n', 'Infrastructure Debt Investments: An Overview\\n', 'Technical Analysis Chart Pack\\n', 'The Long Tail of Fiscal Stimulus\\n', 'A Bold View on Office Space\\n', 'Fallen Angels in Focus', 'Peru Fruit and Vegetable Insight\\n', 'A Creativity Boom? Possible Productivity Gains After the Pandemic\\n', 'Renewable Infrastructure Investments: An Increasing Focus on Energy Storage\\n', 'Reviewing 2020 Risks\\n', 'Are U.S. Farmers Winning or Losing When it Comes to Global Trade?\\n', 'Investors Expect and Demand Meaningful Environmental Goals and Progress\\n', 'Machine-Learned Ranking Algorithms for Implied Volatility Prediction\\n', 'U.S. Timberland Discount Rates\\n', 'Private Capital Quarterly Investment Update (2Q 2020)\\n', 'Public Fixed Income Quarterly Commentary: Second Quarter 2020\\n', 'Short & Intermediate Duration Fixed Income: Q3 2020 Themes, Outlook & Strategy\\n', 'Surface Classification for Direction Predictions of the Foreign Exchange Implied Volatility Surface\\n', 'Good News and Bad News (and Bad Data)\\n', 'Life After COVID-19: Agricultural Impacts\\n', 'The Shape of Things to Come\\n', 'Functional PCA for Implied Volatility Surface Prediction\\n', 'Back to Work: Office Demand in a Post-Pandemic World\\n', 'Recovering Consumer Confidence: Lessons From September 11\\n', 'Applying an Embedded Ridge Model to Forecast the Implied Volatility Surface for Foreign Exchange\\n', 'Life After COVID-19\\n', 'State of the States - E pluribus unum\\n', 'COVID-19 Impact on the U.S. Agricultural Sector\\n', 'This Time is Different\\n', 'Cage Free Egg Insight\\n', 'Enhancing Fixed Income Returns With Diversified Credit Opportunities\\n', 'Core Real Estate for U.S. Insurers\\n'], 'dates': ['May 17, 2021', 'Apr 21, 2021', 'Apr 20, 2021', 'Apr 15, 2021', 'Apr 09, 2021', 'Mar 31, 2021', 'Mar 31, 2021', 'Mar 31, 2021', 'Mar 31, 2021', 'Mar 29, 2021', 'Mar 26, 2021', 'Mar 25, 2021', 'Mar 25, 2021', 'Mar 17, 2021', 'Mar 16, 2021', 'Mar 16, 2021', 'Mar 10, 2021', 'Mar 08, 2021', 'Mar 01, 2021', 'Mar 01, 2021', 'Feb 25, 2021', 'Feb 24, 2021', 'Feb 16, 2021', 'Feb 10, 2021', 'Feb 02, 2021', 'Jan 25, 2021', 'Jan 22, 2021', 'Jan 21, 2021', 'Jan 20, 2021', 'Jan 08, 2021', 'Dec 22, 2020', 'Dec 17, 2020', 'Dec 17, 2020', 'Dec 17, 2020', 'Dec 14, 2020', 'Dec 07, 2020', 'Dec 06, 2020', 'Dec 01, 2020', 'Dec 01, 2020', 'Nov 30, 2020', 'Nov 24, 2020', 'Nov 15, 2020', 'Nov 12, 2020', 'Nov 11, 2020', 'Nov 03, 2020', 'Oct 29, 2020', 'Oct 28, 2020', 'Oct 26, 2020', 'Oct 22, 2020', 'Oct 13, 2020', 'Oct 13, 2020', 'Oct 06, 2020', 'Oct 05, 2020', 'Sep 30, 2020', 'Sep 30, 2020', 'Sep 21, 2020', 'Sep 21, 2020', 'Sep 09, 2020', 'Sep 09, 2020', 'Sep 01, 2020', 'Aug 31, 2020', 'Aug 06, 2020', 'Aug 06, 2020', 'Aug 03, 2020', 'Jul 24, 2020', 'Jul 16, 2020', 'Jul 15, 2020', 'Jul 09, 2020', 'Jun 30, 2020', 'Jun 30, 2020', 'Jun 30, 2020', 'Jun 30, 2020', 'Jun 08, 2020', 'Jun 04, 2020', 'Jun 02, 2020', 'May 21, 2020', 'May 19, 2020', 'May 14, 2020', 'May 05, 2020', 'May 04, 2020', 'Apr 30, 2020', 'Apr 22, 2020', 'Apr 21, 2020', 'Apr 16, 2020', 'Jan 10, 2020', 'Nov 05, 2019', 'Jun 13, 2019']}\n"
     ]
    }
   ],
   "source": [
    "from bs4 import BeautifulSoup as bs\n",
    "import requests \n",
    "from selenium import webdriver \n",
    "import time\n",
    "from selenium.common.exceptions import ElementNotInteractableException\n",
    "import pandas as pd\n",
    "\n",
    "#automated navigation\n",
    "url = 'https://investments.metlife.com/insights/'\n",
    "driver = webdriver.Chrome('chromedriver.exe')\n",
    "driver.get(url)\n",
    "accept = driver.find_element_by_xpath('/html/body/main/div[4]/div/div/div/div/div[3]/div[4]/div/div[2]/button')\n",
    "accept.click()\n",
    "\n",
    "#click read more loop\n",
    "while True:\n",
    "        try:          \n",
    "            mark_read_more = driver.find_element_by_xpath('/html/body/main/div[3]/div[2]/section/div/div[2]/div[2]/span')\n",
    "            mark_read_more.click()\n",
    "            time.sleep(5)\n",
    "        except ElementNotInteractableException:  \n",
    "            break\n",
    "\n",
    "#parsing html data \n",
    "page = driver.page_source\n",
    "page_soup = bs(page,'html.parser')\n",
    "titles = page_soup.find_all(\"div\",{\"class\":\"article-list-item-headline\"})\n",
    "dict = {}\n",
    "titleslist = []\n",
    "\n",
    "#creating the dictionaries\n",
    "for i in titles:\n",
    "    titleslist.append(i.text)\n",
    "\n",
    "dates = page_soup.find_all(\"div\",{\"class\":\"article-list-item-publishedDate\"})\n",
    "dateslist = []\n",
    "\n",
    "for i in dates:\n",
    "    dateslist.append(i.text)\n",
    "    \n",
    "dict = {'titles' : titleslist, 'dates' : dateslist }\n",
    "\n",
    "print(dict)\n",
    "\n",
    "#transform dict to pandas csv\n",
    "mim_df = dict\n",
    "mim_df = pd.DataFrame.from_dict(mim_df)\n",
    "mim_df.to_csv('mim_df_1',encoding='utf-8')"
   ]
  },
  {
   "cell_type": "code",
   "execution_count": 13,
   "id": "4af47703",
   "metadata": {},
   "outputs": [],
   "source": []
  }
 ],
 "metadata": {
  "kernelspec": {
   "display_name": "Python 3",
   "language": "python",
   "name": "python3"
  },
  "language_info": {
   "codemirror_mode": {
    "name": "ipython",
    "version": 3
   },
   "file_extension": ".py",
   "mimetype": "text/x-python",
   "name": "python",
   "nbconvert_exporter": "python",
   "pygments_lexer": "ipython3",
   "version": "3.8.1"
  }
 },
 "nbformat": 4,
 "nbformat_minor": 5
}
